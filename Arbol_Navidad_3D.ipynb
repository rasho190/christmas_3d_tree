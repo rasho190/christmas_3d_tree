{
  "cells": [
    {
      "cell_type": "code",
      "execution_count": null,
      "metadata": {
        "id": "0f5RAU7lpsyr"
      },
      "outputs": [],
      "source": [
        "# Librerías de Seteo Gráfico\n",
        "from mpl_toolkits.mplot3d import Axes3D\n",
        "from matplotlib import cm\n",
        "from matplotlib import animation\n",
        "from mpl_toolkits.mplot3d.art3d import Poly3DCollection\n",
        "from matplotlib.ticker import LinearLocator, FormatStrFormatter\n",
        "import matplotlib.pyplot as plt\n",
        "\n",
        "import numpy as np\n",
        "from IPython.display import HTML"
      ]
    },
    {
      "cell_type": "markdown",
      "metadata": {},
      "source": [
        "# Tronco Inferior"
      ]
    },
    {
      "cell_type": "code",
      "execution_count": null,
      "metadata": {
        "id": "PIMxGqRrsbz4"
      },
      "outputs": [],
      "source": [
        "# Vértices del Tronco de Pirámide Inferior\n",
        "vertices_inferior = [[3, 3, 0],    # Vértice 1\n",
        "                     [3, -3, 0],   # Vértice 2\n",
        "                     [-3, -3, 0],  # Vértice 3\n",
        "                     [-3, 3, 0],   # Vértice 4\n",
        "                     [2, 2, 1],   # Vértice 5\n",
        "                     [2, -2, 1],  # Vértice 6\n",
        "                     [-2, -2, 1], # Vértice 7\n",
        "                     [-2, 2, 1]]  # Vértice 8"
      ]
    },
    {
      "cell_type": "code",
      "execution_count": null,
      "metadata": {
        "id": "L5BCXtkKvKBi"
      },
      "outputs": [],
      "source": [
        "# Definir las caras del Tronco de la Pirámide central\n",
        "caras_inferiores = [\n",
        "    [vertices_inferior[0], vertices_inferior[1], vertices_inferior[2], vertices_inferior[3]],  # Base\n",
        "    [vertices_inferior[0], vertices_inferior[1], vertices_inferior[4], vertices_inferior[5]],  # Cara Lateral 1\n",
        "    [vertices_inferior[1], vertices_inferior[2], vertices_inferior[5], vertices_inferior[6]],  # Cara Lateral 2\n",
        "    [vertices_inferior[2], vertices_inferior[3], vertices_inferior[6], vertices_inferior[7]],  # Cara Lateral 3\n",
        "    [vertices_inferior[0], vertices_inferior[3], vertices_inferior[4], vertices_inferior[7]],  # Cara Lateral 4\n",
        "]"
      ]
    },
    {
      "cell_type": "markdown",
      "metadata": {},
      "source": [
        "# Tronco Medio"
      ]
    },
    {
      "cell_type": "code",
      "execution_count": null,
      "metadata": {},
      "outputs": [],
      "source": [
        "# Vértices del Tronco de Pirámide Inferior\n",
        "vertices_medio = [[2, 2, 1],    # Vértice 1\n",
        "                  [2, -2, 1],   # Vértice 2\n",
        "                  [-2, -2, 1],  # Vértice 3\n",
        "                  [-2, 2, 1],   # Vértice 4\n",
        "                  [1, 1, 2],   # Vértice 5\n",
        "                  [1, -1, 2],  # Vértice 6\n",
        "                  [-1, -1, 2], # Vértice 7\n",
        "                  [-1, 1, 2]]  # Vértice 8"
      ]
    },
    {
      "cell_type": "code",
      "execution_count": null,
      "metadata": {},
      "outputs": [],
      "source": [
        "# Definir las caras del Tronco de la Pirámide Mediana\n",
        "caras_medias = [\n",
        "    #[vertices_medio[0], vertices_medio[1], vertices_medio[2], vertices_medio[3]],  # Base\n",
        "    [vertices_medio[0], vertices_medio[1], vertices_medio[4], vertices_medio[5]],  # Cara Lateral 1\n",
        "    [vertices_medio[1], vertices_medio[2], vertices_medio[5], vertices_medio[6]],  # Cara Lateral 2\n",
        "    [vertices_medio[2], vertices_medio[3], vertices_medio[6], vertices_medio[7]],  # Cara Lateral 3\n",
        "    [vertices_medio[0], vertices_medio[3], vertices_medio[4], vertices_medio[7]],  # Cara Lateral 4\n",
        "]"
      ]
    },
    {
      "cell_type": "markdown",
      "metadata": {},
      "source": [
        "# Punta del Árbol"
      ]
    },
    {
      "cell_type": "code",
      "execution_count": null,
      "metadata": {},
      "outputs": [],
      "source": [
        "# Vértices del Tronco de Pirámide Superior\n",
        "vertices_superior = [[1, 1, 2],    # Vértice 1\n",
        "                     [1, -1, 2],   # Vértice 2\n",
        "                     [-1, -1, 2],  # Vértice 3\n",
        "                     [-1, 1, 2],   # Vértice 4\n",
        "                     [0, 0, 3]]    # Vértice 5 (Punta)"
      ]
    },
    {
      "cell_type": "code",
      "execution_count": null,
      "metadata": {},
      "outputs": [],
      "source": [
        "# Definir las caras del Tronco de la Pirámide Superior\n",
        "caras_superiores = [\n",
        "    #[vertices_superior[0], vertices_superior[1], vertices_superior[2], vertices_superior[3]],  # Base\n",
        "    [vertices_superior[0], vertices_superior[1], vertices_superior[4]],                        # Cara Lateral 1\n",
        "    [vertices_superior[1], vertices_superior[2], vertices_superior[4]],                        # Cara Lateral 2\n",
        "    [vertices_superior[2], vertices_superior[3], vertices_superior[4]],                        # Cara Lateral 3\n",
        "    [vertices_superior[0], vertices_superior[3], vertices_superior[4]],                        # Cara Lateral 4\n",
        "]"
      ]
    },
    {
      "cell_type": "markdown",
      "metadata": {},
      "source": [
        "# Estrella"
      ]
    },
    {
      "cell_type": "code",
      "execution_count": null,
      "metadata": {},
      "outputs": [],
      "source": [
        "# Vértices del Pico Inferior de la Estrella\n",
        "vertices_estrella_inferior = [[0.25, -0.25, 3.25],   # Vértice 1\n",
        "                              [-0.25, -0.25, 3.25],  # Vértice 2\n",
        "                              [-0.25, 0.25, 3.25],   # Vértice 3\n",
        "                              [0.25, 0.25, 3.25],    # Vértice 4\n",
        "                              [0, 0, 3]             # Vértice 5 (Punta)\n",
        "]"
      ]
    },
    {
      "cell_type": "code",
      "execution_count": null,
      "metadata": {},
      "outputs": [],
      "source": [
        "# Definir las caras del Tronco de la Pirámide Inferior\n",
        "estrella_inferior = [\n",
        "    [vertices_estrella_inferior[0], vertices_estrella_inferior[1], vertices_estrella_inferior[2], vertices_estrella_inferior[3]],      # Base\n",
        "    [vertices_estrella_inferior[0], vertices_estrella_inferior[1], vertices_estrella_inferior[4]], # Cara Lateral 1\n",
        "    [vertices_estrella_inferior[1], vertices_estrella_inferior[2], vertices_estrella_inferior[4]], # Cara Lateral 2\n",
        "    [vertices_estrella_inferior[2], vertices_estrella_inferior[3], vertices_estrella_inferior[4]], # Cara Lateral 3\n",
        "    [vertices_estrella_inferior[3], vertices_estrella_inferior[0], vertices_estrella_inferior[4]], # Cara Lateral 4\n",
        "]"
      ]
    },
    {
      "cell_type": "code",
      "execution_count": null,
      "metadata": {},
      "outputs": [],
      "source": [
        "#Vertices del Cubito Medio\n",
        "vertices_estrella_central = [[0.25, -0.25, 3.25],    # Vértice 1\n",
        "                              [-0.25, -0.25, 3.25],  # Vértice 2\n",
        "                              [-0.25, 0.25, 3.25],   # Vértice 3\n",
        "                              [0.25, 0.25, 3.25],    # Vértice 4\n",
        "                              [0.25, -0.25, 3.5],    # Vértice 5\n",
        "                              [-0.25, -0.25, 3.5],   # Vértice 6\n",
        "                              [-0.25, 0.25, 3.5],    # Vértice 7\n",
        "                              [0.25, 0.25, 3.5]      # Vértice 8\n",
        "]"
      ]
    },
    {
      "cell_type": "code",
      "execution_count": null,
      "metadata": {},
      "outputs": [],
      "source": [
        "# Definir las caras del Cubito\n",
        "estrella_central = [\n",
        "    [vertices_estrella_central[0], vertices_estrella_central[1], vertices_estrella_central[2], vertices_estrella_central[3]],      # Base\n",
        "    [vertices_estrella_central[0], vertices_estrella_central[4], vertices_estrella_central[7], vertices_estrella_central[3]],\n",
        "    [vertices_estrella_central[4], vertices_estrella_central[5], vertices_estrella_central[6], vertices_estrella_central[7]],\n",
        "    [vertices_estrella_central[5], vertices_estrella_central[1], vertices_estrella_central[2], vertices_estrella_central[6]],\n",
        "    [vertices_estrella_central[0], vertices_estrella_central[4], vertices_estrella_central[5], vertices_estrella_central[1]],\n",
        "    [vertices_estrella_central[2], vertices_estrella_central[3], vertices_estrella_central[7], vertices_estrella_central[6]]\n",
        "]"
      ]
    },
    {
      "cell_type": "code",
      "execution_count": null,
      "metadata": {},
      "outputs": [],
      "source": [
        "#Vertices del Pico Superior de la Estrella\n",
        "vertices_estrella_superior = [[0.25, -0.25, 3.5],   # Vértice 1\n",
        "                              [-0.25, -0.25, 3.5],  # Vértice 2\n",
        "                              [-0.25, 0.25, 3.5],   # Vértice 3\n",
        "                              [0.25, 0.25, 3.5],    # Vértice 4\n",
        "                              [0, 0, 3.75]          # Vértice 5 (Punta)\n",
        "]"
      ]
    },
    {
      "cell_type": "code",
      "execution_count": null,
      "metadata": {},
      "outputs": [],
      "source": [
        "# Definir las caras del Tronco de la Pirámide Superior\n",
        "estrella_superior = [\n",
        "    [vertices_estrella_superior[0], vertices_estrella_superior[1], vertices_estrella_superior[2], vertices_estrella_superior[3]],      # Base\n",
        "    [vertices_estrella_superior[0], vertices_estrella_superior[1], vertices_estrella_superior[4]], # Cara Lateral 1\n",
        "    [vertices_estrella_superior[1], vertices_estrella_superior[2], vertices_estrella_superior[4]], # Cara Lateral 2\n",
        "    [vertices_estrella_superior[2], vertices_estrella_superior[3], vertices_estrella_superior[4]], # Cara Lateral 3\n",
        "    [vertices_estrella_superior[3], vertices_estrella_superior[0], vertices_estrella_superior[4]], # Cara Lateral 4\n",
        "]"
      ]
    },
    {
      "cell_type": "code",
      "execution_count": null,
      "metadata": {},
      "outputs": [],
      "source": [
        "#Vertices del Pico Lateral Derecho de la Estrella\n",
        "vertices_estrella_derecha = [[-0.25, 0.25, 3.25],  # Vértice 1\n",
        "                              [0.25, 0.25, 3.25],  # Vértice 2\n",
        "                              [0.25, 0.25, 3.5],   # Vértice 3\n",
        "                              [-0.25, 0.25, 3.5],  # Vértice 4\n",
        "                              [0, 0.7, 3.375]      # Vértice 5 (Punta)\n",
        "]"
      ]
    },
    {
      "cell_type": "code",
      "execution_count": null,
      "metadata": {},
      "outputs": [],
      "source": [
        "# Definir las caras del Tronco de la Pirámide Derecha\n",
        "estrella_derecha = [\n",
        "    [vertices_estrella_derecha[0], vertices_estrella_derecha[1], vertices_estrella_derecha[2], vertices_estrella_derecha[3]],      # Base\n",
        "    [vertices_estrella_derecha[0], vertices_estrella_derecha[1], vertices_estrella_derecha[4]], # Cara Lateral 1\n",
        "    [vertices_estrella_derecha[1], vertices_estrella_derecha[2], vertices_estrella_derecha[4]], # Cara Lateral 2\n",
        "    [vertices_estrella_derecha[2], vertices_estrella_derecha[3], vertices_estrella_derecha[4]], # Cara Lateral 3\n",
        "    [vertices_estrella_derecha[3], vertices_estrella_derecha[0], vertices_estrella_derecha[4]], # Cara Lateral 4\n",
        "]"
      ]
    },
    {
      "cell_type": "code",
      "execution_count": null,
      "metadata": {},
      "outputs": [],
      "source": [
        "#Vertices del Pico Lateral Izquierdo de la Estrella\n",
        "vertices_estrella_izquierda = [[0.25, -0.25, 3.25],  # Vértice 1\n",
        "                              [-0.25, -0.25, 3.25],  # Vértice 2\n",
        "                              [-0.25, -0.25, 3.5],   # Vértice 3\n",
        "                              [0.25, -0.25, 3.5],    # Vértice 4\n",
        "                              [0, -0.7, 3.375]       # Vértice 5 (Punta)\n",
        "]"
      ]
    },
    {
      "cell_type": "code",
      "execution_count": null,
      "metadata": {},
      "outputs": [],
      "source": [
        "# Definir las caras del Tronco de la Pirámide Izquierda\n",
        "estrella_izquierda = [\n",
        "    [vertices_estrella_izquierda[0], vertices_estrella_izquierda[1], vertices_estrella_izquierda[2], vertices_estrella_izquierda[3]],      # Base\n",
        "    [vertices_estrella_izquierda[0], vertices_estrella_izquierda[1], vertices_estrella_izquierda[4]], # Cara Lateral 1\n",
        "    [vertices_estrella_izquierda[1], vertices_estrella_izquierda[2], vertices_estrella_izquierda[4]], # Cara Lateral 2\n",
        "    [vertices_estrella_izquierda[2], vertices_estrella_izquierda[3], vertices_estrella_izquierda[4]], # Cara Lateral 3\n",
        "    [vertices_estrella_izquierda[3], vertices_estrella_izquierda[0], vertices_estrella_izquierda[4]], # Cara Lateral 4\n",
        "]"
      ]
    },
    {
      "cell_type": "code",
      "execution_count": null,
      "metadata": {},
      "outputs": [],
      "source": [
        "#Vertices del Pico Frontal de la Estrella\n",
        "vertices_estrella_frontal = [[0.25, -0.25, 3.25], # Vértice 1\n",
        "                             [0.25, 0.25, 3.25],  # Vértice 2\n",
        "                             [0.25, 0.25, 3.5],   # Vértice 3\n",
        "                             [0.25, -0.25, 3.5],  # Vértice 4\n",
        "                             [0.7, 0, 3.375]      # Vértice 5 (Punta)\n",
        "]"
      ]
    },
    {
      "cell_type": "code",
      "execution_count": null,
      "metadata": {},
      "outputs": [],
      "source": [
        "# Definir las caras del Tronco de la Pirámide Frontal\n",
        "estrella_frontal = [\n",
        "    [vertices_estrella_frontal[0], vertices_estrella_frontal[1], vertices_estrella_frontal[2], vertices_estrella_frontal[3]],      # Base\n",
        "    [vertices_estrella_frontal[0], vertices_estrella_frontal[1], vertices_estrella_frontal[4]], # Cara Lateral 1\n",
        "    [vertices_estrella_frontal[1], vertices_estrella_frontal[2], vertices_estrella_frontal[4]], # Cara Lateral 2\n",
        "    [vertices_estrella_frontal[2], vertices_estrella_frontal[3], vertices_estrella_frontal[4]], # Cara Lateral 3\n",
        "    [vertices_estrella_frontal[3], vertices_estrella_frontal[0], vertices_estrella_frontal[4]], # Cara Lateral 4\n",
        "]"
      ]
    },
    {
      "cell_type": "code",
      "execution_count": null,
      "metadata": {},
      "outputs": [],
      "source": [
        "#Vertices del Pico Posterior de la Estrella\n",
        "vertices_estrella_posterior = [[-0.25, -0.25, 3.25], # Vértice 1\n",
        "                             [-0.25, 0.25, 3.25],  # Vértice 2\n",
        "                             [-0.25, 0.25, 3.5],   # Vértice 3\n",
        "                             [-0.25, -0.25, 3.5],  # Vértice 4\n",
        "                             [-0.7, 0, 3.375]      # Vértice 5 (Punta)\n",
        "]"
      ]
    },
    {
      "cell_type": "code",
      "execution_count": null,
      "metadata": {},
      "outputs": [],
      "source": [
        "# Definir las caras del Tronco de la Pirámide Frontal\n",
        "estrella_posterior = [\n",
        "    [vertices_estrella_posterior[0], vertices_estrella_posterior[1], vertices_estrella_posterior[2], vertices_estrella_posterior[3]],      # Base\n",
        "    [vertices_estrella_posterior[0], vertices_estrella_posterior[1], vertices_estrella_posterior[4]], # Cara Lateral 1\n",
        "    [vertices_estrella_posterior[1], vertices_estrella_posterior[2], vertices_estrella_posterior[4]], # Cara Lateral 2\n",
        "    [vertices_estrella_posterior[2], vertices_estrella_posterior[3], vertices_estrella_posterior[4]], # Cara Lateral 3\n",
        "    [vertices_estrella_posterior[3], vertices_estrella_posterior[0], vertices_estrella_posterior[4]], # Cara Lateral 4\n",
        "]"
      ]
    },
    {
      "cell_type": "markdown",
      "metadata": {},
      "source": [
        "# Tronco del Árbol"
      ]
    },
    {
      "cell_type": "code",
      "execution_count": null,
      "metadata": {},
      "outputs": [],
      "source": [
        "#Vertices del Tronco Central\n",
        "vertices_tronco_central = [[0.5, -0.5, -1],   # Vértice 1\n",
        "                           [-0.5, -0.5, -1],  # Vértice 2\n",
        "                           [-0.5, 0.5, -1],   # Vértice 3\n",
        "                           [0.5, 0.5, -1],    # Vértice 4\n",
        "                           [0.5, -0.5, 0],    # Vértice 5\n",
        "                           [-0.5, -0.5, 0],   # Vértice 6\n",
        "                           [-0.5, 0.5, 0],    # Vértice 7\n",
        "                           [0.5, 0.5, 0]      # Vértice 8\n",
        "]"
      ]
    },
    {
      "cell_type": "code",
      "execution_count": null,
      "metadata": {},
      "outputs": [],
      "source": [
        "# Definir las caras del Cubito\n",
        "tronco_central = [\n",
        "    [vertices_tronco_central[0], vertices_tronco_central[1], vertices_tronco_central[2], vertices_tronco_central[3]],      # Base\n",
        "    [vertices_tronco_central[0], vertices_tronco_central[4], vertices_tronco_central[7], vertices_tronco_central[3]],\n",
        "    [vertices_tronco_central[4], vertices_tronco_central[5], vertices_tronco_central[6], vertices_tronco_central[7]],\n",
        "    [vertices_tronco_central[5], vertices_tronco_central[1], vertices_tronco_central[2], vertices_tronco_central[6]],\n",
        "    [vertices_tronco_central[0], vertices_tronco_central[4], vertices_tronco_central[5], vertices_tronco_central[1]],\n",
        "    [vertices_tronco_central[2], vertices_tronco_central[3], vertices_tronco_central[7], vertices_tronco_central[6]]\n",
        "]"
      ]
    },
    {
      "cell_type": "markdown",
      "metadata": {},
      "source": [
        "# Ploteo del Árbol"
      ]
    },
    {
      "cell_type": "code",
      "execution_count": null,
      "metadata": {},
      "outputs": [],
      "source": [
        "# Crear la Figura para el Tronco Inferior\n",
        "fig = plt.figure()\n",
        "\n",
        "# Añadir el Eje Z\n",
        "ax = fig.add_subplot(111, projection='3d')\n",
        "\n",
        "# Límites de los Ejes Coordenados\n",
        "ax.set_xlim([-3.5, 3.5])\n",
        "ax.set_ylim([-3.5, 3.5])\n",
        "ax.set_zlim([-1, 3.5])\n",
        "\n",
        "# Etiquetas de los Ejes Coordenados\n",
        "ax.set_xlabel('X')\n",
        "ax.set_ylabel('Y')\n",
        "ax.set_zlabel('Z')\n",
        "\n",
        "# Dibujo y Unión de las Partes del Árbol\n",
        "\n",
        "## Hojas del Árbol\n",
        "ax.add_collection3d(Poly3DCollection(caras_inferiores, facecolors='green', linewidths=1, edgecolors='g', alpha=0.5))\n",
        "ax.add_collection3d(Poly3DCollection(caras_medias, facecolors='green', linewidths=1, edgecolors='g', alpha=0.5))\n",
        "ax.add_collection3d(Poly3DCollection(caras_superiores, facecolors='green', linewidths=1, edgecolors='g', alpha=0.2))\n",
        "\n",
        "#Elementos de la Estrella\n",
        "ax.add_collection3d(Poly3DCollection(estrella_inferior, facecolors='yellow', linewidths=1, edgecolors='y', alpha=1))\n",
        "ax.add_collection3d(Poly3DCollection(estrella_central, facecolors='yellow', linewidths=1, edgecolors='y', alpha=0.2))\n",
        "ax.add_collection3d(Poly3DCollection(estrella_superior, facecolors='yellow', linewidths=1, edgecolors='y', alpha=1))\n",
        "ax.add_collection3d(Poly3DCollection(estrella_derecha, facecolors='yellow', linewidths=1, edgecolors='y', alpha=1))\n",
        "ax.add_collection3d(Poly3DCollection(estrella_izquierda, facecolors='yellow', linewidths=1, edgecolors='y', alpha=1))\n",
        "ax.add_collection3d(Poly3DCollection(estrella_frontal, facecolors='yellow', linewidths=1, edgecolors='y', alpha=1))\n",
        "ax.add_collection3d(Poly3DCollection(estrella_posterior, facecolors='yellow', linewidths=1, edgecolors='y', alpha=1))\n",
        "\n",
        "#Tronco del Árbol\n",
        "ax.add_collection3d(Poly3DCollection(tronco_central, facecolors='chocolate', linewidths=0.5, edgecolors='chocolate', alpha=0.2))"
      ]
    },
    {
      "cell_type": "markdown",
      "metadata": {},
      "source": [
        "# Animación de Giro"
      ]
    },
    {
      "cell_type": "code",
      "execution_count": null,
      "metadata": {},
      "outputs": [],
      "source": [
        "def animate(i):\n",
        "    ax.view_init(elev=10., azim=i)\n",
        "    return fig,\n",
        "\n",
        "anim = animation.FuncAnimation(fig, animate,\n",
        "                               frames=360, interval=20, blit=True)\n",
        "\n",
        "HTML(anim.to_html5_video())"
      ]
    }
  ],
  "metadata": {
    "colab": {
      "provenance": []
    },
    "kernelspec": {
      "display_name": "Python 3",
      "name": "python3"
    },
    "language_info": {
      "codemirror_mode": {
        "name": "ipython",
        "version": 3
      },
      "file_extension": ".py",
      "mimetype": "text/x-python",
      "name": "python",
      "nbconvert_exporter": "python",
      "pygments_lexer": "ipython3",
      "version": "3.11.4"
    }
  },
  "nbformat": 4,
  "nbformat_minor": 0
}
